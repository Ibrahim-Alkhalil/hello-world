{
  "nbformat": 4,
  "nbformat_minor": 0,
  "metadata": {
    "colab": {
      "name": "Series and DataFrame in Python.ipynb",
      "version": "0.3.2",
      "provenance": [],
      "include_colab_link": true
    },
    "kernelspec": {
      "name": "python3",
      "display_name": "Python 3"
    }
  },
  "cells": [
    {
      "cell_type": "markdown",
      "metadata": {
        "id": "view-in-github",
        "colab_type": "text"
      },
      "source": [
        "<a href=\"https://colab.research.google.com/github/Ibrahim-Alkhalil/hello-world/blob/master/Series_and_DataFrame_in_Python.ipynb\" target=\"_parent\"><img src=\"https://colab.research.google.com/assets/colab-badge.svg\" alt=\"Open In Colab\"/></a>"
      ]
    },
    {
      "metadata": {
        "id": "uUNpwQGKwo0y",
        "colab_type": "text"
      },
      "cell_type": "markdown",
      "source": [
        "#Series and DataFrame in Python\n",
        "``"
      ]
    },
    {
      "metadata": {
        "id": "FCtL-eAzwDP9",
        "colab_type": "code",
        "colab": {
          "base_uri": "https://localhost:8080/",
          "height": 35
        },
        "outputId": "71250aa4-505c-4d85-a9c1-97cd7a9e829a"
      },
      "cell_type": "code",
      "source": [
        "from datetime import datetime\n",
        "datetime(year=2015, month=7, day=4)"
      ],
      "execution_count": 5,
      "outputs": [
        {
          "output_type": "execute_result",
          "data": {
            "text/plain": [
              "datetime.datetime(2015, 7, 4, 0, 0)"
            ]
          },
          "metadata": {
            "tags": []
          },
          "execution_count": 5
        }
      ]
    },
    {
      "metadata": {
        "id": "4_vfsz45MW3C",
        "colab_type": "code",
        "colab": {}
      },
      "cell_type": "code",
      "source": [
        "import pandas as pd"
      ],
      "execution_count": 0,
      "outputs": []
    },
    {
      "metadata": {
        "id": "AbSWKhpdPE_i",
        "colab_type": "code",
        "colab": {
          "base_uri": "https://localhost:8080/",
          "height": 104
        },
        "outputId": "fb5a427b-e202-402f-e459-315bc8d697ee"
      },
      "cell_type": "code",
      "source": [
        "# A Series is a one-dimensional object that can hold any data type such as integers, floats and strings\n",
        "x = pd.Series([6,3,4,6])\n",
        "x"
      ],
      "execution_count": 15,
      "outputs": [
        {
          "output_type": "execute_result",
          "data": {
            "text/plain": [
              "0    6\n",
              "1    3\n",
              "2    4\n",
              "3    6\n",
              "dtype: int64"
            ]
          },
          "metadata": {
            "tags": []
          },
          "execution_count": 15
        }
      ]
    },
    {
      "metadata": {
        "id": "VXdKDbPoP1H9",
        "colab_type": "code",
        "colab": {
          "base_uri": "https://localhost:8080/",
          "height": 104
        },
        "outputId": "0f5c7fbd-4093-4db7-8071-406c76752f3b"
      },
      "cell_type": "code",
      "source": [
        "# the default index will be created with values [0, 1, … \n",
        "# Lets go ahead and define indexes for the data.\n",
        "x = pd.Series([6,3,4,6], index=[ 'a', 'b', 'c', 'd'])\n",
        "x"
      ],
      "execution_count": 18,
      "outputs": [
        {
          "output_type": "execute_result",
          "data": {
            "text/plain": [
              "a    6\n",
              "b    3\n",
              "c    4\n",
              "d    6\n",
              "dtype: int64"
            ]
          },
          "metadata": {
            "tags": []
          },
          "execution_count": 18
        }
      ]
    },
    {
      "metadata": {
        "id": "ajfr_EleQq1s",
        "colab_type": "code",
        "colab": {
          "base_uri": "https://localhost:8080/",
          "height": 35
        },
        "outputId": "e1c3ebd2-d9c0-462c-89eb-494c2e010247"
      },
      "cell_type": "code",
      "source": [
        "#We can lookup the data by referring to its index:\n",
        "\n",
        "x['c']"
      ],
      "execution_count": 19,
      "outputs": [
        {
          "output_type": "execute_result",
          "data": {
            "text/plain": [
              "4"
            ]
          },
          "metadata": {
            "tags": []
          },
          "execution_count": 19
        }
      ]
    },
    {
      "metadata": {
        "id": "4zRT2rv-RYyP",
        "colab_type": "code",
        "colab": {
          "base_uri": "https://localhost:8080/",
          "height": 87
        },
        "outputId": "afb892cc-5bf9-49c7-ebea-e55a781e3475"
      },
      "cell_type": "code",
      "source": [
        "# One example of a data type is the dictionary.\n",
        "data = {'abc' : 1, 'def': 2, 'xyz': 3}\n",
        "pd.Series(data)"
      ],
      "execution_count": 22,
      "outputs": [
        {
          "output_type": "execute_result",
          "data": {
            "text/plain": [
              "abc    1\n",
              "def    2\n",
              "xyz    3\n",
              "dtype: int64"
            ]
          },
          "metadata": {
            "tags": []
          },
          "execution_count": 22
        }
      ]
    },
    {
      "metadata": {
        "id": "VVHpcSHCSE1Q",
        "colab_type": "code",
        "colab": {
          "base_uri": "https://localhost:8080/",
          "height": 104
        },
        "outputId": "ae42d1d4-5b33-4cb1-d451-3f2d3b376aad"
      },
      "cell_type": "code",
      "source": [
        "#  the data value gets repeated for each of the indexes defined\n",
        "x = pd.Series(3, index=['a', 'b', 'c', 'd'])\n",
        "x"
      ],
      "execution_count": 23,
      "outputs": [
        {
          "output_type": "execute_result",
          "data": {
            "text/plain": [
              "a    3\n",
              "b    3\n",
              "c    3\n",
              "d    3\n",
              "dtype: int64"
            ]
          },
          "metadata": {
            "tags": []
          },
          "execution_count": 23
        }
      ]
    },
    {
      "metadata": {
        "id": "OdCzSIgsSj01",
        "colab_type": "code",
        "colab": {
          "base_uri": "https://localhost:8080/",
          "height": 69
        },
        "outputId": "f8841203-10e1-456a-e4d1-ff6fd9d08fc2"
      },
      "cell_type": "code",
      "source": [
        "dates = pd.date_range('2018-11-3' , '2018-11-7')\n",
        "dates"
      ],
      "execution_count": 25,
      "outputs": [
        {
          "output_type": "execute_result",
          "data": {
            "text/plain": [
              "DatetimeIndex(['2018-11-03', '2018-11-04', '2018-11-05', '2018-11-06',\n",
              "               '2018-11-07'],\n",
              "              dtype='datetime64[ns]', freq='D')"
            ]
          },
          "metadata": {
            "tags": []
          },
          "execution_count": 25
        }
      ]
    },
    {
      "metadata": {
        "id": "1L0uF_8zNood",
        "colab_type": "code",
        "colab": {
          "base_uri": "https://localhost:8080/",
          "height": 121
        },
        "outputId": "43ea2c70-2b5e-4bff-9173-e32ca540ec31"
      },
      "cell_type": "code",
      "source": [
        "pd.Series([23, 25, 21, 24, 20], index=dates)"
      ],
      "execution_count": 26,
      "outputs": [
        {
          "output_type": "execute_result",
          "data": {
            "text/plain": [
              "2018-11-03    23\n",
              "2018-11-04    25\n",
              "2018-11-05    21\n",
              "2018-11-06    24\n",
              "2018-11-07    20\n",
              "Freq: D, dtype: int64"
            ]
          },
          "metadata": {
            "tags": []
          },
          "execution_count": 26
        }
      ]
    },
    {
      "metadata": {
        "id": "H9HQ-SQXS1iZ",
        "colab_type": "code",
        "colab": {
          "base_uri": "https://localhost:8080/",
          "height": 69
        },
        "outputId": "63002284-d425-485d-a304-2c3da36ca18a"
      },
      "cell_type": "code",
      "source": [
        "import numpy as np\n",
        "dates = pd.date_range( '20181105', periods = 8)\n",
        "dates"
      ],
      "execution_count": 28,
      "outputs": [
        {
          "output_type": "execute_result",
          "data": {
            "text/plain": [
              "DatetimeIndex(['2018-11-05', '2018-11-06', '2018-11-07', '2018-11-08',\n",
              "               '2018-11-09', '2018-11-10', '2018-11-11', '2018-11-12'],\n",
              "              dtype='datetime64[ns]', freq='D')"
            ]
          },
          "metadata": {
            "tags": []
          },
          "execution_count": 28
        }
      ]
    },
    {
      "metadata": {
        "id": "ojO6CTYyTlAy",
        "colab_type": "code",
        "colab": {
          "base_uri": "https://localhost:8080/",
          "height": 294
        },
        "outputId": "64f7f02e-a750-4bd4-8aa3-f586612a7cc6"
      },
      "cell_type": "code",
      "source": [
        "df = pd.DataFrame(np.random.randn(8,3), index=dates, columns=list('ABC'))\n",
        "df"
      ],
      "execution_count": 29,
      "outputs": [
        {
          "output_type": "execute_result",
          "data": {
            "text/html": [
              "<div>\n",
              "<style scoped>\n",
              "    .dataframe tbody tr th:only-of-type {\n",
              "        vertical-align: middle;\n",
              "    }\n",
              "\n",
              "    .dataframe tbody tr th {\n",
              "        vertical-align: top;\n",
              "    }\n",
              "\n",
              "    .dataframe thead th {\n",
              "        text-align: right;\n",
              "    }\n",
              "</style>\n",
              "<table border=\"1\" class=\"dataframe\">\n",
              "  <thead>\n",
              "    <tr style=\"text-align: right;\">\n",
              "      <th></th>\n",
              "      <th>A</th>\n",
              "      <th>B</th>\n",
              "      <th>C</th>\n",
              "    </tr>\n",
              "  </thead>\n",
              "  <tbody>\n",
              "    <tr>\n",
              "      <th>2018-11-05</th>\n",
              "      <td>-0.405562</td>\n",
              "      <td>0.204798</td>\n",
              "      <td>0.393835</td>\n",
              "    </tr>\n",
              "    <tr>\n",
              "      <th>2018-11-06</th>\n",
              "      <td>2.222646</td>\n",
              "      <td>-0.451135</td>\n",
              "      <td>1.054421</td>\n",
              "    </tr>\n",
              "    <tr>\n",
              "      <th>2018-11-07</th>\n",
              "      <td>-0.136080</td>\n",
              "      <td>1.602106</td>\n",
              "      <td>-0.066008</td>\n",
              "    </tr>\n",
              "    <tr>\n",
              "      <th>2018-11-08</th>\n",
              "      <td>-0.621729</td>\n",
              "      <td>1.078761</td>\n",
              "      <td>0.432688</td>\n",
              "    </tr>\n",
              "    <tr>\n",
              "      <th>2018-11-09</th>\n",
              "      <td>-2.095259</td>\n",
              "      <td>-0.605315</td>\n",
              "      <td>1.212480</td>\n",
              "    </tr>\n",
              "    <tr>\n",
              "      <th>2018-11-10</th>\n",
              "      <td>-1.841506</td>\n",
              "      <td>-0.605773</td>\n",
              "      <td>1.391362</td>\n",
              "    </tr>\n",
              "    <tr>\n",
              "      <th>2018-11-11</th>\n",
              "      <td>1.972740</td>\n",
              "      <td>0.461868</td>\n",
              "      <td>-0.983287</td>\n",
              "    </tr>\n",
              "    <tr>\n",
              "      <th>2018-11-12</th>\n",
              "      <td>-1.949790</td>\n",
              "      <td>-0.177524</td>\n",
              "      <td>0.020849</td>\n",
              "    </tr>\n",
              "  </tbody>\n",
              "</table>\n",
              "</div>"
            ],
            "text/plain": [
              "                   A         B         C\n",
              "2018-11-05 -0.405562  0.204798  0.393835\n",
              "2018-11-06  2.222646 -0.451135  1.054421\n",
              "2018-11-07 -0.136080  1.602106 -0.066008\n",
              "2018-11-08 -0.621729  1.078761  0.432688\n",
              "2018-11-09 -2.095259 -0.605315  1.212480\n",
              "2018-11-10 -1.841506 -0.605773  1.391362\n",
              "2018-11-11  1.972740  0.461868 -0.983287\n",
              "2018-11-12 -1.949790 -0.177524  0.020849"
            ]
          },
          "metadata": {
            "tags": []
          },
          "execution_count": 29
        }
      ]
    },
    {
      "metadata": {
        "id": "-8xnE4j5UKji",
        "colab_type": "code",
        "colab": {
          "base_uri": "https://localhost:8080/",
          "height": 202
        },
        "outputId": "e3e87709-5eee-4114-b7e8-4c3b136b164c"
      },
      "cell_type": "code",
      "source": [
        "# view the top and bottom rows of the frame using df.head and df.tail\n",
        "df.head()\n",
        "df.tail()"
      ],
      "execution_count": 31,
      "outputs": [
        {
          "output_type": "execute_result",
          "data": {
            "text/html": [
              "<div>\n",
              "<style scoped>\n",
              "    .dataframe tbody tr th:only-of-type {\n",
              "        vertical-align: middle;\n",
              "    }\n",
              "\n",
              "    .dataframe tbody tr th {\n",
              "        vertical-align: top;\n",
              "    }\n",
              "\n",
              "    .dataframe thead th {\n",
              "        text-align: right;\n",
              "    }\n",
              "</style>\n",
              "<table border=\"1\" class=\"dataframe\">\n",
              "  <thead>\n",
              "    <tr style=\"text-align: right;\">\n",
              "      <th></th>\n",
              "      <th>A</th>\n",
              "      <th>B</th>\n",
              "      <th>C</th>\n",
              "    </tr>\n",
              "  </thead>\n",
              "  <tbody>\n",
              "    <tr>\n",
              "      <th>2018-11-08</th>\n",
              "      <td>-0.621729</td>\n",
              "      <td>1.078761</td>\n",
              "      <td>0.432688</td>\n",
              "    </tr>\n",
              "    <tr>\n",
              "      <th>2018-11-09</th>\n",
              "      <td>-2.095259</td>\n",
              "      <td>-0.605315</td>\n",
              "      <td>1.212480</td>\n",
              "    </tr>\n",
              "    <tr>\n",
              "      <th>2018-11-10</th>\n",
              "      <td>-1.841506</td>\n",
              "      <td>-0.605773</td>\n",
              "      <td>1.391362</td>\n",
              "    </tr>\n",
              "    <tr>\n",
              "      <th>2018-11-11</th>\n",
              "      <td>1.972740</td>\n",
              "      <td>0.461868</td>\n",
              "      <td>-0.983287</td>\n",
              "    </tr>\n",
              "    <tr>\n",
              "      <th>2018-11-12</th>\n",
              "      <td>-1.949790</td>\n",
              "      <td>-0.177524</td>\n",
              "      <td>0.020849</td>\n",
              "    </tr>\n",
              "  </tbody>\n",
              "</table>\n",
              "</div>"
            ],
            "text/plain": [
              "                   A         B         C\n",
              "2018-11-08 -0.621729  1.078761  0.432688\n",
              "2018-11-09 -2.095259 -0.605315  1.212480\n",
              "2018-11-10 -1.841506 -0.605773  1.391362\n",
              "2018-11-11  1.972740  0.461868 -0.983287\n",
              "2018-11-12 -1.949790 -0.177524  0.020849"
            ]
          },
          "metadata": {
            "tags": []
          },
          "execution_count": 31
        }
      ]
    },
    {
      "metadata": {
        "id": "KLGjTj9fUYF9",
        "colab_type": "code",
        "colab": {
          "base_uri": "https://localhost:8080/",
          "height": 294
        },
        "outputId": "33ad2b1a-f7d0-4a65-c462-60a9427cdbe0"
      },
      "cell_type": "code",
      "source": [
        "# We can observe a quick statistic summary of our data too:\n",
        "\n",
        "df.describe()"
      ],
      "execution_count": 32,
      "outputs": [
        {
          "output_type": "execute_result",
          "data": {
            "text/html": [
              "<div>\n",
              "<style scoped>\n",
              "    .dataframe tbody tr th:only-of-type {\n",
              "        vertical-align: middle;\n",
              "    }\n",
              "\n",
              "    .dataframe tbody tr th {\n",
              "        vertical-align: top;\n",
              "    }\n",
              "\n",
              "    .dataframe thead th {\n",
              "        text-align: right;\n",
              "    }\n",
              "</style>\n",
              "<table border=\"1\" class=\"dataframe\">\n",
              "  <thead>\n",
              "    <tr style=\"text-align: right;\">\n",
              "      <th></th>\n",
              "      <th>A</th>\n",
              "      <th>B</th>\n",
              "      <th>C</th>\n",
              "    </tr>\n",
              "  </thead>\n",
              "  <tbody>\n",
              "    <tr>\n",
              "      <th>count</th>\n",
              "      <td>8.000000</td>\n",
              "      <td>8.000000</td>\n",
              "      <td>8.000000</td>\n",
              "    </tr>\n",
              "    <tr>\n",
              "      <th>mean</th>\n",
              "      <td>-0.356817</td>\n",
              "      <td>0.188473</td>\n",
              "      <td>0.432042</td>\n",
              "    </tr>\n",
              "    <tr>\n",
              "      <th>std</th>\n",
              "      <td>1.688862</td>\n",
              "      <td>0.816785</td>\n",
              "      <td>0.787263</td>\n",
              "    </tr>\n",
              "    <tr>\n",
              "      <th>min</th>\n",
              "      <td>-2.095259</td>\n",
              "      <td>-0.605773</td>\n",
              "      <td>-0.983287</td>\n",
              "    </tr>\n",
              "    <tr>\n",
              "      <th>25%</th>\n",
              "      <td>-1.868577</td>\n",
              "      <td>-0.489680</td>\n",
              "      <td>-0.000865</td>\n",
              "    </tr>\n",
              "    <tr>\n",
              "      <th>50%</th>\n",
              "      <td>-0.513645</td>\n",
              "      <td>0.013637</td>\n",
              "      <td>0.413261</td>\n",
              "    </tr>\n",
              "    <tr>\n",
              "      <th>75%</th>\n",
              "      <td>0.391125</td>\n",
              "      <td>0.616091</td>\n",
              "      <td>1.093935</td>\n",
              "    </tr>\n",
              "    <tr>\n",
              "      <th>max</th>\n",
              "      <td>2.222646</td>\n",
              "      <td>1.602106</td>\n",
              "      <td>1.391362</td>\n",
              "    </tr>\n",
              "  </tbody>\n",
              "</table>\n",
              "</div>"
            ],
            "text/plain": [
              "              A         B         C\n",
              "count  8.000000  8.000000  8.000000\n",
              "mean  -0.356817  0.188473  0.432042\n",
              "std    1.688862  0.816785  0.787263\n",
              "min   -2.095259 -0.605773 -0.983287\n",
              "25%   -1.868577 -0.489680 -0.000865\n",
              "50%   -0.513645  0.013637  0.413261\n",
              "75%    0.391125  0.616091  1.093935\n",
              "max    2.222646  1.602106  1.391362"
            ]
          },
          "metadata": {
            "tags": []
          },
          "execution_count": 32
        }
      ]
    },
    {
      "metadata": {
        "id": "Ep221E6lUpwA",
        "colab_type": "code",
        "colab": {
          "base_uri": "https://localhost:8080/",
          "height": 294
        },
        "outputId": "3a827cc0-874f-4e7a-b70f-1e702a61b589"
      },
      "cell_type": "code",
      "source": [
        "# We can also apply functions to the data like cumulative sum\n",
        "df.apply(np.cumsum)"
      ],
      "execution_count": 33,
      "outputs": [
        {
          "output_type": "execute_result",
          "data": {
            "text/html": [
              "<div>\n",
              "<style scoped>\n",
              "    .dataframe tbody tr th:only-of-type {\n",
              "        vertical-align: middle;\n",
              "    }\n",
              "\n",
              "    .dataframe tbody tr th {\n",
              "        vertical-align: top;\n",
              "    }\n",
              "\n",
              "    .dataframe thead th {\n",
              "        text-align: right;\n",
              "    }\n",
              "</style>\n",
              "<table border=\"1\" class=\"dataframe\">\n",
              "  <thead>\n",
              "    <tr style=\"text-align: right;\">\n",
              "      <th></th>\n",
              "      <th>A</th>\n",
              "      <th>B</th>\n",
              "      <th>C</th>\n",
              "    </tr>\n",
              "  </thead>\n",
              "  <tbody>\n",
              "    <tr>\n",
              "      <th>2018-11-05</th>\n",
              "      <td>-0.405562</td>\n",
              "      <td>0.204798</td>\n",
              "      <td>0.393835</td>\n",
              "    </tr>\n",
              "    <tr>\n",
              "      <th>2018-11-06</th>\n",
              "      <td>1.817085</td>\n",
              "      <td>-0.246338</td>\n",
              "      <td>1.448256</td>\n",
              "    </tr>\n",
              "    <tr>\n",
              "      <th>2018-11-07</th>\n",
              "      <td>1.681004</td>\n",
              "      <td>1.355768</td>\n",
              "      <td>1.382248</td>\n",
              "    </tr>\n",
              "    <tr>\n",
              "      <th>2018-11-08</th>\n",
              "      <td>1.059276</td>\n",
              "      <td>2.434529</td>\n",
              "      <td>1.814936</td>\n",
              "    </tr>\n",
              "    <tr>\n",
              "      <th>2018-11-09</th>\n",
              "      <td>-1.035984</td>\n",
              "      <td>1.829214</td>\n",
              "      <td>3.027415</td>\n",
              "    </tr>\n",
              "    <tr>\n",
              "      <th>2018-11-10</th>\n",
              "      <td>-2.877490</td>\n",
              "      <td>1.223441</td>\n",
              "      <td>4.418778</td>\n",
              "    </tr>\n",
              "    <tr>\n",
              "      <th>2018-11-11</th>\n",
              "      <td>-0.904750</td>\n",
              "      <td>1.685309</td>\n",
              "      <td>3.435491</td>\n",
              "    </tr>\n",
              "    <tr>\n",
              "      <th>2018-11-12</th>\n",
              "      <td>-2.854540</td>\n",
              "      <td>1.507785</td>\n",
              "      <td>3.456340</td>\n",
              "    </tr>\n",
              "  </tbody>\n",
              "</table>\n",
              "</div>"
            ],
            "text/plain": [
              "                   A         B         C\n",
              "2018-11-05 -0.405562  0.204798  0.393835\n",
              "2018-11-06  1.817085 -0.246338  1.448256\n",
              "2018-11-07  1.681004  1.355768  1.382248\n",
              "2018-11-08  1.059276  2.434529  1.814936\n",
              "2018-11-09 -1.035984  1.829214  3.027415\n",
              "2018-11-10 -2.877490  1.223441  4.418778\n",
              "2018-11-11 -0.904750  1.685309  3.435491\n",
              "2018-11-12 -2.854540  1.507785  3.456340"
            ]
          },
          "metadata": {
            "tags": []
          },
          "execution_count": 33
        }
      ]
    }
  ]
}