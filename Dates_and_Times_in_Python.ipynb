{
  "nbformat": 4,
  "nbformat_minor": 0,
  "metadata": {
    "colab": {
      "name": "Dates and Times in Python.ipynb",
      "version": "0.3.2",
      "provenance": [],
      "collapsed_sections": [],
      "include_colab_link": true
    },
    "kernelspec": {
      "name": "python3",
      "display_name": "Python 3"
    }
  },
  "cells": [
    {
      "cell_type": "markdown",
      "metadata": {
        "id": "view-in-github",
        "colab_type": "text"
      },
      "source": [
        "<a href=\"https://colab.research.google.com/github/Ibrahim-Alkhalil/hello-world/blob/master/Dates_and_Times_in_Python.ipynb\" target=\"_parent\"><img src=\"https://colab.research.google.com/assets/colab-badge.svg\" alt=\"Open In Colab\"/></a>"
      ]
    },
    {
      "metadata": {
        "id": "LoabsTKdUOIn",
        "colab_type": "text"
      },
      "cell_type": "markdown",
      "source": [
        "##Native Python dates and times: datetime and dateutil"
      ]
    },
    {
      "metadata": {
        "id": "AZmmK3DzSaPn",
        "colab_type": "code",
        "colab": {
          "base_uri": "https://localhost:8080/",
          "height": 35
        },
        "outputId": "a5448fd4-4b5b-4371-ca73-1486361350ce"
      },
      "cell_type": "code",
      "source": [
        "from datetime import datetime\n",
        "datetime(year=2018, month=10, day=30)"
      ],
      "execution_count": 11,
      "outputs": [
        {
          "output_type": "execute_result",
          "data": {
            "text/plain": [
              "datetime.datetime(2018, 10, 30, 0, 0)"
            ]
          },
          "metadata": {
            "tags": []
          },
          "execution_count": 11
        }
      ]
    },
    {
      "metadata": {
        "id": "ZsPr0wQWUtJk",
        "colab_type": "text"
      },
      "cell_type": "markdown",
      "source": [
        "## using the dateutil module, you can parse dates from a variety of string formats"
      ]
    },
    {
      "metadata": {
        "id": "JPOA88uZTG8n",
        "colab_type": "code",
        "colab": {
          "base_uri": "https://localhost:8080/",
          "height": 35
        },
        "outputId": "355ae175-da5d-4439-a197-da2583120dc9"
      },
      "cell_type": "code",
      "source": [
        "from dateutil import parser\n",
        "date = parser.parse(\"30th of October, 2018\")\n",
        "date"
      ],
      "execution_count": 12,
      "outputs": [
        {
          "output_type": "execute_result",
          "data": {
            "text/plain": [
              "datetime.datetime(2018, 10, 30, 0, 0)"
            ]
          },
          "metadata": {
            "tags": []
          },
          "execution_count": 12
        }
      ]
    },
    {
      "metadata": {
        "id": "YoHNAUulVFZx",
        "colab_type": "text"
      },
      "cell_type": "markdown",
      "source": [
        "##printing the day of the week:"
      ]
    },
    {
      "metadata": {
        "id": "tTTLqhCuVHs5",
        "colab_type": "code",
        "colab": {
          "base_uri": "https://localhost:8080/",
          "height": 35
        },
        "outputId": "516fa9d5-ef7a-4d83-a51d-add2f891312c"
      },
      "cell_type": "code",
      "source": [
        "date.strftime('%A')"
      ],
      "execution_count": 13,
      "outputs": [
        {
          "output_type": "execute_result",
          "data": {
            "text/plain": [
              "'Tuesday'"
            ]
          },
          "metadata": {
            "tags": []
          },
          "execution_count": 13
        }
      ]
    },
    {
      "metadata": {
        "id": "PAh4ToIlVkuD",
        "colab_type": "text"
      },
      "cell_type": "markdown",
      "source": [
        "##Typed arrays of times: NumPy's datetime64\n"
      ]
    },
    {
      "metadata": {
        "id": "28fswQX3VvHs",
        "colab_type": "code",
        "colab": {
          "base_uri": "https://localhost:8080/",
          "height": 35
        },
        "outputId": "ca7e3860-6693-4e5b-ba82-a3d5b5c0b02d"
      },
      "cell_type": "code",
      "source": [
        "## NumPy datetime64 arrays\n",
        "import numpy as np\n",
        "date = np.array('2018-08-30', dtype=np.datetime64)\n",
        "date"
      ],
      "execution_count": 14,
      "outputs": [
        {
          "output_type": "execute_result",
          "data": {
            "text/plain": [
              "array('2018-08-30', dtype='datetime64[D]')"
            ]
          },
          "metadata": {
            "tags": []
          },
          "execution_count": 14
        }
      ]
    },
    {
      "metadata": {
        "id": "NdoYsEvcWSlg",
        "colab_type": "code",
        "colab": {
          "base_uri": "https://localhost:8080/",
          "height": 87
        },
        "outputId": "96e24fba-6da1-4f31-b8dc-f2a3546a869d"
      },
      "cell_type": "code",
      "source": [
        "## date formatted\n",
        "## do vectorized operations\n",
        "date + np.arange(12)\n"
      ],
      "execution_count": 15,
      "outputs": [
        {
          "output_type": "execute_result",
          "data": {
            "text/plain": [
              "array(['2018-08-30', '2018-08-31', '2018-09-01', '2018-09-02',\n",
              "       '2018-09-03', '2018-09-04', '2018-09-05', '2018-09-06',\n",
              "       '2018-09-07', '2018-09-08', '2018-09-09', '2018-09-10'],\n",
              "      dtype='datetime64[D]')"
            ]
          },
          "metadata": {
            "tags": []
          },
          "execution_count": 15
        }
      ]
    },
    {
      "metadata": {
        "id": "S4Y_uq0Tf88b",
        "colab_type": "code",
        "colab": {
          "base_uri": "https://localhost:8080/",
          "height": 35
        },
        "outputId": "2c1308d2-2d26-453c-917c-746d962620ea"
      },
      "cell_type": "code",
      "source": [
        "## minute-based datetime\n",
        "np.datetime64('2015-07-04 12:00')  "
      ],
      "execution_count": 17,
      "outputs": [
        {
          "output_type": "execute_result",
          "data": {
            "text/plain": [
              "numpy.datetime64('2015-07-04T12:00')"
            ]
          },
          "metadata": {
            "tags": []
          },
          "execution_count": 17
        }
      ]
    },
    {
      "metadata": {
        "id": "h6VuiTxRinkI",
        "colab_type": "text"
      },
      "cell_type": "markdown",
      "source": [
        "##Dates and times in pandas \n"
      ]
    },
    {
      "metadata": {
        "id": "8AbHcl8AWTFE",
        "colab_type": "code",
        "colab": {
          "base_uri": "https://localhost:8080/",
          "height": 35
        },
        "outputId": "c1e4fcfd-4f50-4d78-b98d-0da66b9e1f2f"
      },
      "cell_type": "code",
      "source": [
        "# We can parse a flexibly formatted string date\n",
        "import pandas as pd\n",
        "date = pd.to_datetime(\"4th of July, 2015\")\n",
        "date"
      ],
      "execution_count": 18,
      "outputs": [
        {
          "output_type": "execute_result",
          "data": {
            "text/plain": [
              "Timestamp('2015-07-04 00:00:00')"
            ]
          },
          "metadata": {
            "tags": []
          },
          "execution_count": 18
        }
      ]
    },
    {
      "metadata": {
        "id": "SDcVjZDZjQQf",
        "colab_type": "code",
        "colab": {
          "base_uri": "https://localhost:8080/",
          "height": 35
        },
        "outputId": "9f6a3935-a310-4839-ac5a-3c428f776d37"
      },
      "cell_type": "code",
      "source": [
        "## use format codes to output the day of the week\n",
        "date.strftime('%A')"
      ],
      "execution_count": 19,
      "outputs": [
        {
          "output_type": "execute_result",
          "data": {
            "text/plain": [
              "'Saturday'"
            ]
          },
          "metadata": {
            "tags": []
          },
          "execution_count": 19
        }
      ]
    },
    {
      "metadata": {
        "id": "YI9yRGdVjyxE",
        "colab_type": "code",
        "colab": {
          "base_uri": "https://localhost:8080/",
          "height": 87
        },
        "outputId": "1fd8af63-0a04-4b71-e14d-29bc4dc2c07c"
      },
      "cell_type": "code",
      "source": [
        "## vectorized operations directly\n",
        "date + pd.to_timedelta(np.arange(12), 'D')\n"
      ],
      "execution_count": 20,
      "outputs": [
        {
          "output_type": "execute_result",
          "data": {
            "text/plain": [
              "DatetimeIndex(['2015-07-04', '2015-07-05', '2015-07-06', '2015-07-07',\n",
              "               '2015-07-08', '2015-07-09', '2015-07-10', '2015-07-11',\n",
              "               '2015-07-12', '2015-07-13', '2015-07-14', '2015-07-15'],\n",
              "              dtype='datetime64[ns]', freq=None)"
            ]
          },
          "metadata": {
            "tags": []
          },
          "execution_count": 20
        }
      ]
    },
    {
      "metadata": {
        "id": "1N37hnx5kBd6",
        "colab_type": "text"
      },
      "cell_type": "markdown",
      "source": [
        "## Pandas Time Series: Indexing by Time\n"
      ]
    },
    {
      "metadata": {
        "id": "ozXczeU9kY8e",
        "colab_type": "code",
        "colab": {
          "base_uri": "https://localhost:8080/",
          "height": 104
        },
        "outputId": "5dd7dbf3-546e-4678-f21d-0b5944290be3"
      },
      "cell_type": "code",
      "source": [
        "## index data by timestamps\n",
        "## a Series object has time indexed data\n",
        "index = pd.DatetimeIndex(['2018-07-04', '2018-08-04',\n",
        "                          '2018-07-04', '2018-08-04'])\n",
        "data = pd.Series([0, 1, 2, 3], index=index)\n",
        "data"
      ],
      "execution_count": 29,
      "outputs": [
        {
          "output_type": "execute_result",
          "data": {
            "text/plain": [
              "2018-07-04    0\n",
              "2018-08-04    1\n",
              "2018-07-04    2\n",
              "2018-08-04    3\n",
              "dtype: int64"
            ]
          },
          "metadata": {
            "tags": []
          },
          "execution_count": 29
        }
      ]
    },
    {
      "metadata": {
        "id": "_wtO_cbglZvs",
        "colab_type": "code",
        "colab": {
          "base_uri": "https://localhost:8080/",
          "height": 104
        },
        "outputId": "7daa8e55-f4e3-4ad3-da50-55d0227aafda"
      },
      "cell_type": "code",
      "source": [
        "## passing values that can be coerced into dates\n",
        "data['2018-07-04':'2018-08-04']"
      ],
      "execution_count": 31,
      "outputs": [
        {
          "output_type": "execute_result",
          "data": {
            "text/plain": [
              "2018-07-04    0\n",
              "2018-08-04    1\n",
              "2018-07-04    2\n",
              "2018-08-04    3\n",
              "dtype: int64"
            ]
          },
          "metadata": {
            "tags": []
          },
          "execution_count": 31
        }
      ]
    },
    {
      "metadata": {
        "id": "8y3Mvf5Ml6BH",
        "colab_type": "code",
        "colab": {
          "base_uri": "https://localhost:8080/",
          "height": 104
        },
        "outputId": "42bd25a2-e4f1-4b8f-d855-093809c6c9a8"
      },
      "cell_type": "code",
      "source": [
        "## passing a year to obtain a slice of all data from that year\n",
        "data['2018']"
      ],
      "execution_count": 28,
      "outputs": [
        {
          "output_type": "execute_result",
          "data": {
            "text/plain": [
              "2018-07-04    0\n",
              "2018-08-04    1\n",
              "2018-07-04    2\n",
              "2018-08-04    3\n",
              "dtype: int64"
            ]
          },
          "metadata": {
            "tags": []
          },
          "execution_count": 28
        }
      ]
    },
    {
      "metadata": {
        "id": "BRp3-dZEnXIw",
        "colab_type": "code",
        "colab": {
          "base_uri": "https://localhost:8080/",
          "height": 69
        },
        "outputId": "e7e6cdbd-af57-4fee-8fbd-ba615adaa24a"
      },
      "cell_type": "code",
      "source": [
        "## use the pd.to_datetime() function, which can parse a wide variety of formats\n",
        "dates = pd.to_datetime([datetime(2018, 7, 3), '4th of July, 2018',\n",
        "                       '2018-Jul-6', '07-07-2018', '20180708'])\n",
        "dates"
      ],
      "execution_count": 32,
      "outputs": [
        {
          "output_type": "execute_result",
          "data": {
            "text/plain": [
              "DatetimeIndex(['2018-07-03', '2018-07-04', '2018-07-06', '2018-07-07',\n",
              "               '2018-07-08'],\n",
              "              dtype='datetime64[ns]', freq=None)"
            ]
          },
          "metadata": {
            "tags": []
          },
          "execution_count": 32
        }
      ]
    },
    {
      "metadata": {
        "id": "_66pkMUFn4Pv",
        "colab_type": "code",
        "colab": {
          "base_uri": "https://localhost:8080/",
          "height": 69
        },
        "outputId": "2bdc54a1-b392-4ddd-8d27-2f9a97922606"
      },
      "cell_type": "code",
      "source": [
        "## the to_period() function with frequency code\n",
        "## use 'D' to indicate daily frequency\n",
        "dates.to_period('D')"
      ],
      "execution_count": 33,
      "outputs": [
        {
          "output_type": "execute_result",
          "data": {
            "text/plain": [
              "PeriodIndex(['2018-07-03', '2018-07-04', '2018-07-06', '2018-07-07',\n",
              "             '2018-07-08'],\n",
              "            dtype='period[D]', freq='D')"
            ]
          },
          "metadata": {
            "tags": []
          },
          "execution_count": 33
        }
      ]
    },
    {
      "metadata": {
        "id": "7RUCf_Lboil6",
        "colab_type": "code",
        "colab": {
          "base_uri": "https://localhost:8080/",
          "height": 35
        },
        "outputId": "5b1e4f4e-f439-4304-cde6-95082d606417"
      },
      "cell_type": "code",
      "source": [
        "dates - dates[0]"
      ],
      "execution_count": 34,
      "outputs": [
        {
          "output_type": "execute_result",
          "data": {
            "text/plain": [
              "TimedeltaIndex(['0 days', '1 days', '3 days', '4 days', '5 days'], dtype='timedelta64[ns]', freq=None)"
            ]
          },
          "metadata": {
            "tags": []
          },
          "execution_count": 34
        }
      ]
    },
    {
      "metadata": {
        "id": "iFUNW6T5oveC",
        "colab_type": "code",
        "colab": {
          "base_uri": "https://localhost:8080/",
          "height": 69
        },
        "outputId": "9bf78928-442f-4c1f-dd1c-0ebbc58784f8"
      },
      "cell_type": "code",
      "source": [
        "dates.to_period('D')"
      ],
      "execution_count": 35,
      "outputs": [
        {
          "output_type": "execute_result",
          "data": {
            "text/plain": [
              "PeriodIndex(['2018-07-03', '2018-07-04', '2018-07-06', '2018-07-07',\n",
              "             '2018-07-08'],\n",
              "            dtype='period[D]', freq='D')"
            ]
          },
          "metadata": {
            "tags": []
          },
          "execution_count": 35
        }
      ]
    },
    {
      "metadata": {
        "id": "LgJrG8VPpL57",
        "colab_type": "text"
      },
      "cell_type": "markdown",
      "source": [
        "## regular sequence of dates"
      ]
    },
    {
      "metadata": {
        "id": "6niEQsBipQiS",
        "colab_type": "code",
        "colab": {
          "base_uri": "https://localhost:8080/",
          "height": 69
        },
        "outputId": "d480f0d5-5749-4093-9f89-4a9584832f5e"
      },
      "cell_type": "code",
      "source": [
        "## pd.date_range() accepts a start date, an end date, and an optional frequency code\n",
        "## By default, the frequency is one day\n",
        "pd.date_range('2018-07-03', '2018-07-10')"
      ],
      "execution_count": 36,
      "outputs": [
        {
          "output_type": "execute_result",
          "data": {
            "text/plain": [
              "DatetimeIndex(['2018-07-03', '2018-07-04', '2018-07-05', '2018-07-06',\n",
              "               '2018-07-07', '2018-07-08', '2018-07-09', '2018-07-10'],\n",
              "              dtype='datetime64[ns]', freq='D')"
            ]
          },
          "metadata": {
            "tags": []
          },
          "execution_count": 36
        }
      ]
    },
    {
      "metadata": {
        "id": "9JcYmDWwp9bM",
        "colab_type": "code",
        "colab": {
          "base_uri": "https://localhost:8080/",
          "height": 69
        },
        "outputId": "c55de8c8-7374-4357-ca11-c99c6a63480f"
      },
      "cell_type": "code",
      "source": [
        "## Alternatively, with a startpoint and a number of periods\n",
        "pd.date_range('2018-10-03', periods=8)    # the freq argument, which defaults to D"
      ],
      "execution_count": 38,
      "outputs": [
        {
          "output_type": "execute_result",
          "data": {
            "text/plain": [
              "DatetimeIndex(['2018-10-03', '2018-10-04', '2018-10-05', '2018-10-06',\n",
              "               '2018-10-07', '2018-10-08', '2018-10-09', '2018-10-10'],\n",
              "              dtype='datetime64[ns]', freq='D')"
            ]
          },
          "metadata": {
            "tags": []
          },
          "execution_count": 38
        }
      ]
    },
    {
      "metadata": {
        "id": "ae9eArcGqp6u",
        "colab_type": "code",
        "colab": {
          "base_uri": "https://localhost:8080/",
          "height": 104
        },
        "outputId": "746f9337-aa9b-4e05-b69e-bcddd563cfbc"
      },
      "cell_type": "code",
      "source": [
        "## For example, here we will construct a range of hourly timestamps\n",
        "pd.date_range('2015-07-03', periods=8, freq='H')"
      ],
      "execution_count": 39,
      "outputs": [
        {
          "output_type": "execute_result",
          "data": {
            "text/plain": [
              "DatetimeIndex(['2015-07-03 00:00:00', '2015-07-03 01:00:00',\n",
              "               '2015-07-03 02:00:00', '2015-07-03 03:00:00',\n",
              "               '2015-07-03 04:00:00', '2015-07-03 05:00:00',\n",
              "               '2015-07-03 06:00:00', '2015-07-03 07:00:00'],\n",
              "              dtype='datetime64[ns]', freq='H')"
            ]
          },
          "metadata": {
            "tags": []
          },
          "execution_count": 39
        }
      ]
    },
    {
      "metadata": {
        "id": "q7UPXPGArMxi",
        "colab_type": "code",
        "colab": {
          "base_uri": "https://localhost:8080/",
          "height": 69
        },
        "outputId": "6f0ace0d-5fc1-4fef-e857-cc34398b8b4b"
      },
      "cell_type": "code",
      "source": [
        "## create regular sequences of Period \n",
        "## pd.period_range() fnction useful for monthly periods\n",
        "pd.period_range('2018-07', periods=8, freq='M')"
      ],
      "execution_count": 41,
      "outputs": [
        {
          "output_type": "execute_result",
          "data": {
            "text/plain": [
              "PeriodIndex(['2018-07', '2018-08', '2018-09', '2018-10', '2018-11', '2018-12',\n",
              "             '2019-01', '2019-02'],\n",
              "            dtype='period[M]', freq='M')"
            ]
          },
          "metadata": {
            "tags": []
          },
          "execution_count": 41
        }
      ]
    },
    {
      "metadata": {
        "id": "4hHfuhQkr9xj",
        "colab_type": "code",
        "colab": {
          "base_uri": "https://localhost:8080/",
          "height": 69
        },
        "outputId": "8949d1ab-5568-4e32-80aa-7b44f3a636c4"
      },
      "cell_type": "code",
      "source": [
        "## a sequence of durations increasing by an hour\n",
        "## pd.timedelta_range() function\n",
        "## #Pandas frequency codes D (day) and H (hour) codes\n",
        "pd.timedelta_range(0, periods=10, freq='H')   "
      ],
      "execution_count": 44,
      "outputs": [
        {
          "output_type": "execute_result",
          "data": {
            "text/plain": [
              "TimedeltaIndex(['00:00:00', '01:00:00', '02:00:00', '03:00:00', '04:00:00',\n",
              "                '05:00:00', '06:00:00', '07:00:00', '08:00:00', '09:00:00'],\n",
              "               dtype='timedelta64[ns]', freq='H')"
            ]
          },
          "metadata": {
            "tags": []
          },
          "execution_count": 44
        }
      ]
    },
    {
      "metadata": {
        "id": "RKgD48EXtOU7",
        "colab_type": "text"
      },
      "cell_type": "markdown",
      "source": [
        "D\tCalendar day\t\n",
        "B\tBusiness day\n",
        "W\tWeekly\t\t\n",
        "M\tMonth end\t\n",
        "BM\tBusiness month end\n",
        "\n",
        "Q\tQuarter end\t\n",
        "BQ\tBusiness quarter end\n",
        "\n",
        "A\tYear end\t\n",
        "BA\tBusiness year end\n",
        "\n",
        "H\tHours\t\n",
        "BH\tBusiness hours\n",
        "T\tMinutes\t\t\n",
        "S\tSeconds\t\t\n",
        "L\tMilliseonds\t\t\n",
        "U\tMicroseconds\t\t\n",
        "N\tnanoseconds"
      ]
    },
    {
      "metadata": {
        "id": "zeCkp7WUuxcK",
        "colab_type": "code",
        "colab": {
          "base_uri": "https://localhost:8080/",
          "height": 69
        },
        "outputId": "302a004b-f63f-4c47-8a16-b6ecc2933fe3"
      },
      "cell_type": "code",
      "source": [
        "## The monthly, quarterly, and annual frequencies are all marked at the end of the specified period.\n",
        "## M\tMonth end\n",
        "## Q\tQuarter end\n",
        "## A\tYear end\n",
        "pd.date_range('2018-07-03', periods=8, freq='A')"
      ],
      "execution_count": 51,
      "outputs": [
        {
          "output_type": "execute_result",
          "data": {
            "text/plain": [
              "DatetimeIndex(['2018-12-31', '2019-12-31', '2020-12-31', '2021-12-31',\n",
              "               '2022-12-31', '2023-12-31', '2024-12-31', '2025-12-31'],\n",
              "              dtype='datetime64[ns]', freq='A-DEC')"
            ]
          },
          "metadata": {
            "tags": []
          },
          "execution_count": 51
        }
      ]
    },
    {
      "metadata": {
        "id": "J3z5MVbuvwDA",
        "colab_type": "code",
        "colab": {
          "base_uri": "https://localhost:8080/",
          "height": 69
        },
        "outputId": "65764059-9f8a-41fd-e11a-328766c32c99"
      },
      "cell_type": "code",
      "source": [
        "## The quarterly frequency marked at the end of the specified period.\n",
        "## Q\tQuarter end\n",
        "pd.date_range('2018-01-01', periods=8, freq='Q')"
      ],
      "execution_count": 48,
      "outputs": [
        {
          "output_type": "execute_result",
          "data": {
            "text/plain": [
              "DatetimeIndex(['2018-03-31', '2018-06-30', '2018-09-30', '2018-12-31',\n",
              "               '2019-03-31', '2019-06-30', '2019-09-30', '2019-12-31'],\n",
              "              dtype='datetime64[ns]', freq='Q-DEC')"
            ]
          },
          "metadata": {
            "tags": []
          },
          "execution_count": 48
        }
      ]
    },
    {
      "metadata": {
        "id": "jXvz_aiIwWwb",
        "colab_type": "code",
        "colab": {
          "base_uri": "https://localhost:8080/",
          "height": 69
        },
        "outputId": "cf591820-b532-44e0-b804-25ca27ce6917"
      },
      "cell_type": "code",
      "source": [
        "## By adding an S suffix to any of frequency (M Q A), will be marked at the beginning\n",
        "pd.date_range('2018-01-01', periods=8, freq='QS')\n"
      ],
      "execution_count": 50,
      "outputs": [
        {
          "output_type": "execute_result",
          "data": {
            "text/plain": [
              "DatetimeIndex(['2018-01-01', '2018-04-01', '2018-07-01', '2018-10-01',\n",
              "               '2019-01-01', '2019-04-01', '2019-07-01', '2019-10-01'],\n",
              "              dtype='datetime64[ns]', freq='QS-JAN')"
            ]
          },
          "metadata": {
            "tags": []
          },
          "execution_count": 50
        }
      ]
    },
    {
      "metadata": {
        "id": "Z5flMyUYxyvh",
        "colab_type": "code",
        "colab": {
          "base_uri": "https://localhost:8080/",
          "height": 69
        },
        "outputId": "f8ffbafb-767a-4641-8fdc-2dc4c7b36062"
      },
      "cell_type": "code",
      "source": [
        "## weekly frequency can be modified by adding a three-letter weekday code\n",
        "## W-SUN, W-MON, W-TUE, W-WED, etc.\n",
        "pd.date_range('2018-10-01', periods=8, freq='W-WED')"
      ],
      "execution_count": 54,
      "outputs": [
        {
          "output_type": "execute_result",
          "data": {
            "text/plain": [
              "DatetimeIndex(['2018-10-03', '2018-10-10', '2018-10-17', '2018-10-24',\n",
              "               '2018-10-31', '2018-11-07', '2018-11-14', '2018-11-21'],\n",
              "              dtype='datetime64[ns]', freq='W-WED')"
            ]
          },
          "metadata": {
            "tags": []
          },
          "execution_count": 54
        }
      ]
    },
    {
      "metadata": {
        "id": "C3OcoHtA0EPN",
        "colab_type": "code",
        "colab": {
          "base_uri": "https://localhost:8080/",
          "height": 69
        },
        "outputId": "330cdc9a-3df1-4365-9e41-8dd3d8029a82"
      },
      "cell_type": "code",
      "source": [
        "## Additionally, you can change the month used to mark any quarterly or annual code\n",
        "## by adding a three-letter month code as a suffix \n",
        "## Q-JAN, BQ-FEB, QS-MAR, BQS-APR, etc.\n",
        "## A-JAN, BA-FEB, AS-MAR, BAS-APR, etc.\n",
        "pd.date_range('2018-01-01', periods=8, freq='AS-FEB')"
      ],
      "execution_count": 67,
      "outputs": [
        {
          "output_type": "execute_result",
          "data": {
            "text/plain": [
              "DatetimeIndex(['2018-02-01', '2019-02-01', '2020-02-01', '2021-02-01',\n",
              "               '2022-02-01', '2023-02-01', '2024-02-01', '2025-02-01'],\n",
              "              dtype='datetime64[ns]', freq='AS-FEB')"
            ]
          },
          "metadata": {
            "tags": []
          },
          "execution_count": 67
        }
      ]
    },
    {
      "metadata": {
        "id": "G9LHRMpl2e0O",
        "colab_type": "code",
        "colab": {
          "base_uri": "https://localhost:8080/",
          "height": 69
        },
        "outputId": "41f01a7c-3ed2-4c24-cc84-034d0f7f75a4"
      },
      "cell_type": "code",
      "source": [
        "## we can combine the hour (H) and minute (T) codes \n",
        "## For example, for a frequency of 2 hours 30 minutes\n",
        "pd.timedelta_range(0, periods=9, freq=\"2H30T\")\n"
      ],
      "execution_count": 68,
      "outputs": [
        {
          "output_type": "execute_result",
          "data": {
            "text/plain": [
              "TimedeltaIndex(['00:00:00', '02:30:00', '05:00:00', '07:30:00', '10:00:00',\n",
              "                '12:30:00', '15:00:00', '17:30:00', '20:00:00'],\n",
              "               dtype='timedelta64[ns]', freq='150T')"
            ]
          },
          "metadata": {
            "tags": []
          },
          "execution_count": 68
        }
      ]
    },
    {
      "metadata": {
        "id": "mfLSaiqZ3Z7r",
        "colab_type": "code",
        "colab": {
          "base_uri": "https://localhost:8080/",
          "height": 87
        },
        "outputId": "8af325d3-6588-4d90-8821-551aad46af92"
      },
      "cell_type": "code",
      "source": [
        "## pd.tseries.offsets module\n",
        "from pandas.tseries.offsets import BDay\n",
        "pd.date_range('2018-10-01', periods=10, freq=BDay())  # BDaya business day offset"
      ],
      "execution_count": 71,
      "outputs": [
        {
          "output_type": "execute_result",
          "data": {
            "text/plain": [
              "DatetimeIndex(['2018-10-01', '2018-10-02', '2018-10-03', '2018-10-04',\n",
              "               '2018-10-05', '2018-10-08', '2018-10-09', '2018-10-10',\n",
              "               '2018-10-11', '2018-10-12'],\n",
              "              dtype='datetime64[ns]', freq='B')"
            ]
          },
          "metadata": {
            "tags": []
          },
          "execution_count": 71
        }
      ]
    },
    {
      "metadata": {
        "id": "Yvl4qawP4qas",
        "colab_type": "text"
      },
      "cell_type": "markdown",
      "source": [
        "##Resampling, Shifting, and Windowing\n"
      ]
    },
    {
      "metadata": {
        "id": "Hrsq3ion5Ha3",
        "colab_type": "code",
        "colab": {}
      },
      "cell_type": "code",
      "source": [
        "## pandas-datareader package (installable via conda install pandas-datareader)"
      ],
      "execution_count": 0,
      "outputs": []
    },
    {
      "metadata": {
        "id": "-_o5Rn3V5Xzk",
        "colab_type": "code",
        "colab": {
          "base_uri": "https://localhost:8080/",
          "height": 367
        },
        "outputId": "183c6108-c5fb-44b5-99a7-4d08101a554f"
      },
      "cell_type": "code",
      "source": [
        "!pip install pandas-datareader"
      ],
      "execution_count": 6,
      "outputs": [
        {
          "output_type": "stream",
          "text": [
            "Collecting pandas-datareader\n",
            "\u001b[?25l  Downloading https://files.pythonhosted.org/packages/cc/5c/ea5b6dcfd0f55c5fb1e37fb45335ec01cceca199b8a79339137f5ed269e0/pandas_datareader-0.7.0-py2.py3-none-any.whl (111kB)\n",
            "\u001b[K    100% |████████████████████████████████| 112kB 2.7MB/s \n",
            "\u001b[?25hRequirement already satisfied: pandas>=0.19.2 in /usr/local/lib/python3.6/dist-packages (from pandas-datareader) (0.22.0)\n",
            "Collecting lxml (from pandas-datareader)\n",
            "\u001b[?25l  Downloading https://files.pythonhosted.org/packages/03/a4/9eea8035fc7c7670e5eab97f34ff2ef0ddd78a491bf96df5accedb0e63f5/lxml-4.2.5-cp36-cp36m-manylinux1_x86_64.whl (5.8MB)\n",
            "\u001b[K    100% |████████████████████████████████| 5.8MB 5.1MB/s \n",
            "\u001b[?25hRequirement already satisfied: requests>=2.3.0 in /usr/local/lib/python3.6/dist-packages (from pandas-datareader) (2.18.4)\n",
            "Requirement already satisfied: wrapt in /usr/local/lib/python3.6/dist-packages (from pandas-datareader) (1.10.11)\n",
            "Requirement already satisfied: numpy>=1.9.0 in /usr/local/lib/python3.6/dist-packages (from pandas>=0.19.2->pandas-datareader) (1.14.6)\n",
            "Requirement already satisfied: python-dateutil>=2 in /usr/local/lib/python3.6/dist-packages (from pandas>=0.19.2->pandas-datareader) (2.5.3)\n",
            "Requirement already satisfied: pytz>=2011k in /usr/local/lib/python3.6/dist-packages (from pandas>=0.19.2->pandas-datareader) (2018.6)\n",
            "Requirement already satisfied: chardet<3.1.0,>=3.0.2 in /usr/local/lib/python3.6/dist-packages (from requests>=2.3.0->pandas-datareader) (3.0.4)\n",
            "Requirement already satisfied: urllib3<1.23,>=1.21.1 in /usr/local/lib/python3.6/dist-packages (from requests>=2.3.0->pandas-datareader) (1.22)\n",
            "Requirement already satisfied: certifi>=2017.4.17 in /usr/local/lib/python3.6/dist-packages (from requests>=2.3.0->pandas-datareader) (2018.10.15)\n",
            "Requirement already satisfied: idna<2.7,>=2.5 in /usr/local/lib/python3.6/dist-packages (from requests>=2.3.0->pandas-datareader) (2.6)\n",
            "Requirement already satisfied: six>=1.5 in /usr/local/lib/python3.6/dist-packages (from python-dateutil>=2->pandas>=0.19.2->pandas-datareader) (1.11.0)\n",
            "Installing collected packages: lxml, pandas-datareader\n",
            "Successfully installed lxml-4.2.5 pandas-datareader-0.7.0\n"
          ],
          "name": "stdout"
        }
      ]
    },
    {
      "metadata": {
        "id": "mNEqpXft6Fbb",
        "colab_type": "code",
        "colab": {
          "base_uri": "https://localhost:8080/",
          "height": 403
        },
        "outputId": "e01902c7-59be-4815-c91f-73c182f48b22"
      },
      "cell_type": "code",
      "source": [
        "import pandas_datareader as pdr\n",
        "\n",
        "# Here we will load Yahoo's closing price history:\n",
        "df = pdr.get_data_yahoo('005930.KS', '2018-05-01', '2018-10-30')\n",
        "\n",
        "print('row count:', len(df))\n",
        "df.head(10)\n"
      ],
      "execution_count": 17,
      "outputs": [
        {
          "output_type": "stream",
          "text": [
            "row count: 120\n"
          ],
          "name": "stdout"
        },
        {
          "output_type": "execute_result",
          "data": {
            "text/html": [
              "<div>\n",
              "<style scoped>\n",
              "    .dataframe tbody tr th:only-of-type {\n",
              "        vertical-align: middle;\n",
              "    }\n",
              "\n",
              "    .dataframe tbody tr th {\n",
              "        vertical-align: top;\n",
              "    }\n",
              "\n",
              "    .dataframe thead th {\n",
              "        text-align: right;\n",
              "    }\n",
              "</style>\n",
              "<table border=\"1\" class=\"dataframe\">\n",
              "  <thead>\n",
              "    <tr style=\"text-align: right;\">\n",
              "      <th></th>\n",
              "      <th>High</th>\n",
              "      <th>Low</th>\n",
              "      <th>Open</th>\n",
              "      <th>Close</th>\n",
              "      <th>Volume</th>\n",
              "      <th>Adj Close</th>\n",
              "    </tr>\n",
              "    <tr>\n",
              "      <th>Date</th>\n",
              "      <th></th>\n",
              "      <th></th>\n",
              "      <th></th>\n",
              "      <th></th>\n",
              "      <th></th>\n",
              "      <th></th>\n",
              "    </tr>\n",
              "  </thead>\n",
              "  <tbody>\n",
              "    <tr>\n",
              "      <th>2018-05-02</th>\n",
              "      <td>53000.0</td>\n",
              "      <td>53000.0</td>\n",
              "      <td>53000.0</td>\n",
              "      <td>53000.0</td>\n",
              "      <td>0.0</td>\n",
              "      <td>52608.718750</td>\n",
              "    </tr>\n",
              "    <tr>\n",
              "      <th>2018-05-03</th>\n",
              "      <td>53000.0</td>\n",
              "      <td>53000.0</td>\n",
              "      <td>53000.0</td>\n",
              "      <td>53000.0</td>\n",
              "      <td>0.0</td>\n",
              "      <td>52608.718750</td>\n",
              "    </tr>\n",
              "    <tr>\n",
              "      <th>2018-05-04</th>\n",
              "      <td>53900.0</td>\n",
              "      <td>51800.0</td>\n",
              "      <td>53000.0</td>\n",
              "      <td>51900.0</td>\n",
              "      <td>39565391.0</td>\n",
              "      <td>51516.839844</td>\n",
              "    </tr>\n",
              "    <tr>\n",
              "      <th>2018-05-08</th>\n",
              "      <td>53200.0</td>\n",
              "      <td>51900.0</td>\n",
              "      <td>52600.0</td>\n",
              "      <td>52600.0</td>\n",
              "      <td>23104720.0</td>\n",
              "      <td>52211.671875</td>\n",
              "    </tr>\n",
              "    <tr>\n",
              "      <th>2018-05-09</th>\n",
              "      <td>52800.0</td>\n",
              "      <td>50900.0</td>\n",
              "      <td>52600.0</td>\n",
              "      <td>50900.0</td>\n",
              "      <td>16128305.0</td>\n",
              "      <td>50524.222656</td>\n",
              "    </tr>\n",
              "    <tr>\n",
              "      <th>2018-05-10</th>\n",
              "      <td>51700.0</td>\n",
              "      <td>50600.0</td>\n",
              "      <td>51700.0</td>\n",
              "      <td>51600.0</td>\n",
              "      <td>13905263.0</td>\n",
              "      <td>51219.054688</td>\n",
              "    </tr>\n",
              "    <tr>\n",
              "      <th>2018-05-11</th>\n",
              "      <td>52200.0</td>\n",
              "      <td>51200.0</td>\n",
              "      <td>52000.0</td>\n",
              "      <td>51300.0</td>\n",
              "      <td>10314997.0</td>\n",
              "      <td>50921.269531</td>\n",
              "    </tr>\n",
              "    <tr>\n",
              "      <th>2018-05-14</th>\n",
              "      <td>51100.0</td>\n",
              "      <td>49900.0</td>\n",
              "      <td>51000.0</td>\n",
              "      <td>50100.0</td>\n",
              "      <td>14909272.0</td>\n",
              "      <td>49730.128906</td>\n",
              "    </tr>\n",
              "    <tr>\n",
              "      <th>2018-05-15</th>\n",
              "      <td>50400.0</td>\n",
              "      <td>49100.0</td>\n",
              "      <td>50200.0</td>\n",
              "      <td>49200.0</td>\n",
              "      <td>18709146.0</td>\n",
              "      <td>48836.773438</td>\n",
              "    </tr>\n",
              "    <tr>\n",
              "      <th>2018-05-16</th>\n",
              "      <td>50200.0</td>\n",
              "      <td>49150.0</td>\n",
              "      <td>49200.0</td>\n",
              "      <td>49850.0</td>\n",
              "      <td>15918683.0</td>\n",
              "      <td>49481.972656</td>\n",
              "    </tr>\n",
              "  </tbody>\n",
              "</table>\n",
              "</div>"
            ],
            "text/plain": [
              "               High      Low     Open    Close      Volume     Adj Close\n",
              "Date                                                                    \n",
              "2018-05-02  53000.0  53000.0  53000.0  53000.0         0.0  52608.718750\n",
              "2018-05-03  53000.0  53000.0  53000.0  53000.0         0.0  52608.718750\n",
              "2018-05-04  53900.0  51800.0  53000.0  51900.0  39565391.0  51516.839844\n",
              "2018-05-08  53200.0  51900.0  52600.0  52600.0  23104720.0  52211.671875\n",
              "2018-05-09  52800.0  50900.0  52600.0  50900.0  16128305.0  50524.222656\n",
              "2018-05-10  51700.0  50600.0  51700.0  51600.0  13905263.0  51219.054688\n",
              "2018-05-11  52200.0  51200.0  52000.0  51300.0  10314997.0  50921.269531\n",
              "2018-05-14  51100.0  49900.0  51000.0  50100.0  14909272.0  49730.128906\n",
              "2018-05-15  50400.0  49100.0  50200.0  49200.0  18709146.0  48836.773438\n",
              "2018-05-16  50200.0  49150.0  49200.0  49850.0  15918683.0  49481.972656"
            ]
          },
          "metadata": {
            "tags": []
          },
          "execution_count": 17
        }
      ]
    },
    {
      "metadata": {
        "id": "XdnT2k1K-vIB",
        "colab_type": "code",
        "colab": {
          "base_uri": "https://localhost:8080/",
          "height": 366
        },
        "outputId": "41aaf6e1-b724-4e99-dd36-d26cc28407ff"
      },
      "cell_type": "code",
      "source": [
        "# For simplicity, we'll use just the closing price:\n",
        "df['Adj Close'].plot()"
      ],
      "execution_count": 18,
      "outputs": [
        {
          "output_type": "execute_result",
          "data": {
            "text/plain": [
              "<matplotlib.axes._subplots.AxesSubplot at 0x7f9b04f1f400>"
            ]
          },
          "metadata": {
            "tags": []
          },
          "execution_count": 18
        },
        {
          "output_type": "display_data",
          "data": {
            "image/png": "[encoded data removed]",
            "text/plain": [
              "<matplotlib.figure.Figure at 0x7f9b077456a0>"
            ]
          },
          "metadata": {
            "tags": []
          }
        }
      ]
    },
    {
      "metadata": {
        "id": "Fn-RSnhLGh7x",
        "colab_type": "code",
        "colab": {}
      },
      "cell_type": "code",
      "source": [
        "# visualize this using the plot()\n",
        "%matplotlib inline\n",
        "import matplotlib.pyplot as plt\n",
        "import seaborn; seaborn.set()"
      ],
      "execution_count": 0,
      "outputs": []
    },
    {
      "metadata": {
        "id": "MzdgNzraGoy2",
        "colab_type": "code",
        "colab": {
          "base_uri": "https://localhost:8080/",
          "height": 359
        },
        "outputId": "abe55898-e149-4a90-a1f1-3bedda158efe"
      },
      "cell_type": "code",
      "source": [
        "df.plot();"
      ],
      "execution_count": 19,
      "outputs": [
        {
          "output_type": "display_data",
          "data": {
            "image/png": "[encoded data removed]",
            "text/plain": [
              "<matplotlib.figure.Figure at 0x7f9b04d9aac8>"
            ]
          },
          "metadata": {
            "tags": []
          }
        }
      ]
    },
    {
      "metadata": {
        "id": "zM5hJ77bH2aC",
        "colab_type": "text"
      },
      "cell_type": "markdown",
      "source": [
        "##Resampling and converting frequencies\n"
      ]
    },
    {
      "metadata": {
        "id": "UP2fdN7XIMwG",
        "colab_type": "code",
        "colab": {}
      },
      "cell_type": "code",
      "source": [
        " "
      ],
      "execution_count": 0,
      "outputs": []
    }
  ]
}